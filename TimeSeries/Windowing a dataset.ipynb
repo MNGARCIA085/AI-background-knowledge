{
 "cells": [
  {
   "cell_type": "markdown",
   "id": "ca8c8c8c",
   "metadata": {},
   "source": [
    "# <center> <b> <font color='blue'> Windowing a dataset </center> </b> </font>\n"
   ]
  },
  {
   "cell_type": "markdown",
   "id": "bd637cb7",
   "metadata": {},
   "source": [
    "## <font color='#1f618d'> Table of Contents </font>\n",
    "\n",
    "1. [Introduction](#1)\n",
    "2. [Setup](#2)\n",
    "3. [Univariate Time Series Windowing](#3)<br>\n",
    "   3.1. [Generating Data](#3.1) <br>\n",
    "   3.2. [Using TF](#3.2) <br>\n",
    "   3.3. [Using Pandas](#3.3)\n",
    "4. [Multivariate Time Series Windowing](#4) <br>\n",
    "   4.1. [Generating Data](#4.1) <br>\n",
    "   4.2. [Using TF](#4.2) <br>\n",
    "   4.3. [Using Pandas](#4.3)\n",
    "5. [Summary](#5)\n",
    "6. [References](#References)"
   ]
  },
  {
   "cell_type": "markdown",
   "id": "8b0c81a1",
   "metadata": {},
   "source": [
    "<a name=\"1\"></a>\n",
    "## <font color='#1f618d'> <b> 1. Introduction </font> </b>\n",
    "\n",
    "Windowing a dataset is used to convert a time series problem into a supervised learning problem.\n",
    "\n",
    "We've got to window our time series.\n",
    "\n",
    "Why do we window?\n",
    "\n",
    "Windowing is a method to turn a time series dataset into **supervised learning problem**. \n",
    "\n",
    "In other words, we want to use windows of the past to predict the future.\n",
    "\n",
    "For example for a univariate time series, windowing for one week (`window=7`) to predict the next single value (`horizon=1`) might look like:\n",
    "\n",
    "```\n",
    "Window for one week (univariate time series)\n",
    "\n",
    "[0, 1, 2, 3, 4, 5, 6] -> [7]\n",
    "[1, 2, 3, 4, 5, 6, 7] -> [8]\n",
    "[2, 3, 4, 5, 6, 7, 8] -> [9]\n",
    "```"
   ]
  },
  {
   "cell_type": "markdown",
   "id": "0c07b101",
   "metadata": {},
   "source": [
    "<a name=\"2\"></a>\n",
    "## <font color='#1f618d'> <b> 2. Setup </font> </b>"
   ]
  },
  {
   "cell_type": "code",
   "execution_count": 52,
   "id": "a8c6c8dc",
   "metadata": {},
   "outputs": [],
   "source": [
    "import numpy as np\n",
    "import pandas as pd\n",
    "import matplotlib.pyplot as plt\n",
    "import tensorflow as tf"
   ]
  },
  {
   "cell_type": "markdown",
   "id": "75d09b40",
   "metadata": {},
   "source": [
    "<a name=\"3\"></a>\n",
    "## <font color='#1f618d'> <b> 3. Univariate Time Series Windowing </font> </b>\n",
    "\n",
    "<a name=\"3.1\"></a>\n",
    "### <font color='#2874a6'> <b> 3.1. Generating data </font> </b>\n"
   ]
  },
  {
   "cell_type": "code",
   "execution_count": 2,
   "id": "a998d7c7",
   "metadata": {},
   "outputs": [],
   "source": [
    "# Create a simple time series dataset: numbers from 0 to 20\n",
    "series = np.arange(21)  # Generate numbers from 0 to 20\n",
    "time = np.arange(len(series))  # Time index"
   ]
  },
  {
   "cell_type": "code",
   "execution_count": 3,
   "id": "ad5f9151",
   "metadata": {},
   "outputs": [
    {
     "data": {
      "text/plain": [
       "array([ 0,  1,  2,  3,  4,  5,  6,  7,  8,  9, 10, 11, 12, 13, 14, 15, 16,\n",
       "       17, 18, 19, 20])"
      ]
     },
     "execution_count": 3,
     "metadata": {},
     "output_type": "execute_result"
    }
   ],
   "source": [
    "series"
   ]
  },
  {
   "cell_type": "code",
   "execution_count": 4,
   "id": "44fac58b",
   "metadata": {},
   "outputs": [
    {
     "data": {
      "image/png": "[encoded data removed]",
      "text/plain": [
       "<Figure size 800x300 with 1 Axes>"
      ]
     },
     "metadata": {},
     "output_type": "display_data"
    }
   ],
   "source": [
    "# Plot the data\n",
    "plt.figure(figsize=(8, 3))\n",
    "plt.plot(time, series, marker='o', color='blue', linestyle='-')\n",
    "plt.title('Simple Time Series: Numbers from 0 to 20', fontsize=16, fontweight='bold', color='#8e44ad')\n",
    "plt.xlabel('Time', fontsize=14, fontweight='bold', color='orange')\n",
    "plt.ylabel('Value', fontsize=14, fontweight='bold', color='orange')\n",
    "plt.xticks(time)  # Set x-ticks to be the same as the time values for clarity\n",
    "#plt.grid(True)\n",
    "plt.tight_layout()  # Adjust layout to prevent clipping of ylabel\n",
    "plt.show()"
   ]
  },
  {
   "cell_type": "markdown",
   "id": "2552f8ce",
   "metadata": {},
   "source": [
    "<a name=\"3.2\"></a>\n",
    "### <font color='#2874a6'> <b> 3.2. Using TensorFlow </font> </b>"
   ]
  },
  {
   "cell_type": "code",
   "execution_count": 5,
   "id": "795ca47f",
   "metadata": {},
   "outputs": [],
   "source": [
    "horizon = 1\n",
    "window_size = 3"
   ]
  },
  {
   "cell_type": "code",
   "execution_count": 6,
   "id": "4fed6b98",
   "metadata": {},
   "outputs": [],
   "source": [
    "def windowed_dataset(series, \n",
    "                     window_size=3, \n",
    "                     horizon=1, \n",
    "                     batch_size=32, \n",
    "                     shuffle_buffer=10,\n",
    "                     shuffle=True):\n",
    "    \n",
    "    # Create the dataset from the series\n",
    "    ds = tf.data.Dataset.from_tensor_slices(series)\n",
    "    \n",
    "    # Create windows of size (window_size + horizon)\n",
    "    ds = ds.window(window_size + horizon, shift=1, drop_remainder=True)\n",
    "    \n",
    "    # Flatten the windows into batches\n",
    "    ds = ds.flat_map(lambda w: w.batch(window_size + horizon))\n",
    "    \n",
    "    if shuffle:\n",
    "        ds = ds.shuffle(shuffle_buffer)\n",
    "    \n",
    "    # Split the windows into features and labels\n",
    "    # w[:-horizon]: all but the last 'horizon' elements for features\n",
    "    # w[-horizon:]: the last 'horizon' elements for labels\n",
    "    ds = ds.map(lambda w: (w[:-horizon], w[-horizon:]))  # Use -horizon for labels\n",
    "    \n",
    "    # Batch the dataset\n",
    "    ds = ds.batch(batch_size).prefetch(1)\n",
    "    return ds\n",
    "\n"
   ]
  },
  {
   "cell_type": "code",
   "execution_count": 7,
   "id": "4ccf41fb",
   "metadata": {},
   "outputs": [
    {
     "data": {
      "text/plain": [
       "tensorflow.python.data.ops.from_tensor_slices_op._TensorSliceDataset"
      ]
     },
     "execution_count": 7,
     "metadata": {},
     "output_type": "execute_result"
    }
   ],
   "source": [
    "ds = tf.data.Dataset.from_tensor_slices(series) # convert to a tensor\n",
    "type(ds)"
   ]
  },
  {
   "cell_type": "code",
   "execution_count": 8,
   "id": "06280992",
   "metadata": {},
   "outputs": [
    {
     "name": "stdout",
     "output_type": "stream",
     "text": [
      "0 1 2 3 \n",
      "1 2 3 4 \n",
      "2 3 4 5 \n",
      "3 4 5 6 \n",
      "4 5 6 7 \n",
      "5 6 7 8 \n",
      "6 7 8 9 \n",
      "7 8 9 10 \n",
      "8 9 10 11 \n",
      "9 10 11 12 \n",
      "10 11 12 13 \n",
      "11 12 13 14 \n",
      "12 13 14 15 \n",
      "13 14 15 16 \n",
      "14 15 16 17 \n",
      "15 16 17 18 \n",
      "16 17 18 19 \n",
      "17 18 19 20 \n"
     ]
    },
    {
     "name": "stderr",
     "output_type": "stream",
     "text": [
      "2025-06-27 15:51:02.472915: W tensorflow/core/framework/dataset.cc:959] Input of Window will not be optimized because the dataset does not implement the AsGraphDefInternal() method needed to apply optimizations.\n"
     ]
    }
   ],
   "source": [
    "# Create windows of size (window_size + horizon)\n",
    "ds = ds.window(window_size + horizon, shift=1, drop_remainder=True)\n",
    "\n",
    "for window_dataset in ds:\n",
    "    for val in window_dataset:\n",
    "        print(val.numpy(), end=\" \")\n",
    "    print()"
   ]
  },
  {
   "cell_type": "code",
   "execution_count": 9,
   "id": "2fd01bb1",
   "metadata": {},
   "outputs": [
    {
     "name": "stdout",
     "output_type": "stream",
     "text": [
      "[0 1 2 3]\n",
      "[1 2 3 4]\n",
      "[2 3 4 5]\n",
      "[3 4 5 6]\n",
      "[4 5 6 7]\n",
      "[5 6 7 8]\n",
      "[6 7 8 9]\n",
      "[ 7  8  9 10]\n",
      "[ 8  9 10 11]\n",
      "[ 9 10 11 12]\n",
      "[10 11 12 13]\n",
      "[11 12 13 14]\n",
      "[12 13 14 15]\n",
      "[13 14 15 16]\n",
      "[14 15 16 17]\n",
      "[15 16 17 18]\n",
      "[16 17 18 19]\n",
      "[17 18 19 20]\n"
     ]
    }
   ],
   "source": [
    "# Flatten the windows into batches\n",
    "ds = ds.flat_map(lambda w: w.batch(window_size + horizon))\n",
    "\n",
    "for window in ds:\n",
    "    print(window.numpy())"
   ]
  },
  {
   "cell_type": "code",
   "execution_count": 10,
   "id": "5a2c4e83",
   "metadata": {},
   "outputs": [
    {
     "name": "stdout",
     "output_type": "stream",
     "text": [
      "[12 13 14 15]\n",
      "[17 18 19 20]\n",
      "[10 11 12 13]\n",
      "[3 4 5 6]\n",
      "[13 14 15 16]\n",
      "[ 9 10 11 12]\n",
      "[15 16 17 18]\n",
      "[11 12 13 14]\n",
      "[0 1 2 3]\n",
      "[4 5 6 7]\n",
      "[14 15 16 17]\n",
      "[6 7 8 9]\n",
      "[ 8  9 10 11]\n",
      "[1 2 3 4]\n",
      "[ 7  8  9 10]\n",
      "[16 17 18 19]\n",
      "[5 6 7 8]\n",
      "[2 3 4 5]\n"
     ]
    }
   ],
   "source": [
    "ds = ds.shuffle(20)\n",
    "\n",
    "for window in ds:\n",
    "    print(window.numpy())"
   ]
  },
  {
   "cell_type": "code",
   "execution_count": 11,
   "id": "11a974ce",
   "metadata": {},
   "outputs": [
    {
     "name": "stdout",
     "output_type": "stream",
     "text": [
      "X: [10 11 12]  Y: [13]\n",
      "X: [ 9 10 11]  Y: [12]\n",
      "X: [0 1 2]  Y: [3]\n",
      "X: [15 16 17]  Y: [18]\n",
      "X: [13 14 15]  Y: [16]\n",
      "X: [14 15 16]  Y: [17]\n",
      "X: [2 3 4]  Y: [5]\n",
      "X: [17 18 19]  Y: [20]\n",
      "X: [1 2 3]  Y: [4]\n",
      "X: [4 5 6]  Y: [7]\n",
      "X: [6 7 8]  Y: [9]\n",
      "X: [ 8  9 10]  Y: [11]\n",
      "X: [11 12 13]  Y: [14]\n",
      "X: [16 17 18]  Y: [19]\n",
      "X: [12 13 14]  Y: [15]\n",
      "X: [3 4 5]  Y: [6]\n",
      "X: [5 6 7]  Y: [8]\n",
      "X: [7 8 9]  Y: [10]\n"
     ]
    }
   ],
   "source": [
    "# Split the windows into features and labels\n",
    "# w[:-horizon]: all but the last 'horizon' elements for features\n",
    "# w[-horizon:]: the last 'horizon' elements for labels\n",
    "ds = ds.map(lambda w: (w[:-horizon], w[-horizon:]))  # Use -horizon for labels\n",
    "\n",
    "for x, y in ds:\n",
    "    print(f\"X: {x.numpy()}  Y: {y.numpy()}\")"
   ]
  },
  {
   "cell_type": "code",
   "execution_count": 12,
   "id": "d39047e1",
   "metadata": {},
   "outputs": [
    {
     "name": "stdout",
     "output_type": "stream",
     "text": [
      "x =  [[17 18 19]\n",
      " [ 0  1  2]\n",
      " [ 6  7  8]\n",
      " [ 2  3  4]\n",
      " [12 13 14]\n",
      " [16 17 18]\n",
      " [ 5  6  7]\n",
      " [11 12 13]\n",
      " [ 1  2  3]\n",
      " [ 9 10 11]\n",
      " [14 15 16]\n",
      " [10 11 12]\n",
      " [ 8  9 10]\n",
      " [ 7  8  9]\n",
      " [ 3  4  5]\n",
      " [15 16 17]\n",
      " [13 14 15]\n",
      " [ 4  5  6]]\n",
      "y =  [[20]\n",
      " [ 3]\n",
      " [ 9]\n",
      " [ 5]\n",
      " [15]\n",
      " [19]\n",
      " [ 8]\n",
      " [14]\n",
      " [ 4]\n",
      " [12]\n",
      " [17]\n",
      " [13]\n",
      " [11]\n",
      " [10]\n",
      " [ 6]\n",
      " [18]\n",
      " [16]\n",
      " [ 7]]\n"
     ]
    }
   ],
   "source": [
    "#  prepare the dataset for efficient training or evaluation by batching the data and \n",
    "# optimizing the input pipeline. \n",
    "batch_size = 32\n",
    "\n",
    "ds = ds.batch(batch_size).prefetch(1)\n",
    "\n",
    "for x,y in ds:\n",
    "    print(\"x = \", x.numpy())\n",
    "    print(\"y = \", y.numpy())"
   ]
  },
  {
   "cell_type": "markdown",
   "id": "7207edc4",
   "metadata": {},
   "source": [
    "We can put everything together in a single function:"
   ]
  },
  {
   "cell_type": "code",
   "execution_count": 13,
   "id": "63c6853d",
   "metadata": {},
   "outputs": [],
   "source": [
    "def windowed_dataset(series, \n",
    "                     window_size=3, \n",
    "                     horizon=1, \n",
    "                     batch_size=32, \n",
    "                     shuffle_buffer=10,\n",
    "                     shuffle=True):\n",
    "    \n",
    "    # Create the dataset from the series\n",
    "    ds = tf.data.Dataset.from_tensor_slices(series)\n",
    "    \n",
    "    # Create windows of size (window_size + horizon)\n",
    "    ds = ds.window(window_size + horizon, shift=1, drop_remainder=True)\n",
    "    \n",
    "    # Flatten the windows into batches\n",
    "    ds = ds.flat_map(lambda w: w.batch(window_size + horizon))\n",
    "    \n",
    "    if shuffle:\n",
    "        ds = ds.shuffle(shuffle_buffer)\n",
    "    \n",
    "    # Split the windows into features and labels\n",
    "    # w[:-horizon]: all but the last 'horizon' elements for features\n",
    "    # w[-horizon:]: the last 'horizon' elements for labels\n",
    "    ds = ds.map(lambda w: (w[:-horizon], w[-horizon:]))  # Use -horizon for labels\n",
    "    \n",
    "    # Batch the dataset\n",
    "    ds = ds.batch(batch_size).prefetch(1)\n",
    "    return ds"
   ]
  },
  {
   "cell_type": "code",
   "execution_count": 14,
   "id": "848dfef8",
   "metadata": {},
   "outputs": [
    {
     "name": "stdout",
     "output_type": "stream",
     "text": [
      "tf.Tensor(\n",
      "[[ 7  8  9]\n",
      " [10 11 12]\n",
      " [ 2  3  4]\n",
      " [ 8  9 10]\n",
      " [ 0  1  2]\n",
      " [11 12 13]\n",
      " [13 14 15]\n",
      " [16 17 18]\n",
      " [ 9 10 11]\n",
      " [17 18 19]\n",
      " [15 16 17]\n",
      " [ 4  5  6]\n",
      " [14 15 16]\n",
      " [ 6  7  8]\n",
      " [ 5  6  7]\n",
      " [ 3  4  5]\n",
      " [12 13 14]\n",
      " [ 1  2  3]], shape=(18, 3), dtype=int64) tf.Tensor(\n",
      "[[10]\n",
      " [13]\n",
      " [ 5]\n",
      " [11]\n",
      " [ 3]\n",
      " [14]\n",
      " [16]\n",
      " [19]\n",
      " [12]\n",
      " [20]\n",
      " [18]\n",
      " [ 7]\n",
      " [17]\n",
      " [ 9]\n",
      " [ 8]\n",
      " [ 6]\n",
      " [15]\n",
      " [ 4]], shape=(18, 1), dtype=int64)\n"
     ]
    }
   ],
   "source": [
    "dataset = windowed_dataset(series, window_size=3, horizon=1)\n",
    "\n",
    "for x, y in dataset:\n",
    "    print(x, y)"
   ]
  },
  {
   "cell_type": "markdown",
   "id": "32acf6b9",
   "metadata": {},
   "source": [
    "Let's test this function with a different window size and a larger horizon:"
   ]
  },
  {
   "cell_type": "code",
   "execution_count": 15,
   "id": "2d3cb4c7",
   "metadata": {},
   "outputs": [
    {
     "name": "stdout",
     "output_type": "stream",
     "text": [
      "tf.Tensor(\n",
      "[[ 7  8  9]\n",
      " [ 8  9 10]\n",
      " [11 12 13]\n",
      " [ 5  6  7]\n",
      " [10 11 12]\n",
      " [ 3  4  5]\n",
      " [12 13 14]\n",
      " [14 15 16]\n",
      " [ 2  3  4]\n",
      " [ 1  2  3]\n",
      " [ 0  1  2]\n",
      " [ 9 10 11]\n",
      " [16 17 18]\n",
      " [15 16 17]\n",
      " [13 14 15]\n",
      " [ 6  7  8]\n",
      " [ 4  5  6]], shape=(17, 3), dtype=int64) tf.Tensor(\n",
      "[[10 11]\n",
      " [11 12]\n",
      " [14 15]\n",
      " [ 8  9]\n",
      " [13 14]\n",
      " [ 6  7]\n",
      " [15 16]\n",
      " [17 18]\n",
      " [ 5  6]\n",
      " [ 4  5]\n",
      " [ 3  4]\n",
      " [12 13]\n",
      " [19 20]\n",
      " [18 19]\n",
      " [16 17]\n",
      " [ 9 10]\n",
      " [ 7  8]], shape=(17, 2), dtype=int64)\n"
     ]
    }
   ],
   "source": [
    "dataset = windowed_dataset(series, window_size=3, horizon=2)\n",
    "\n",
    "for x, y in dataset:\n",
    "    print(x, y)\n"
   ]
  },
  {
   "cell_type": "markdown",
   "id": "a80735d6",
   "metadata": {},
   "source": [
    "<a name=\"3.3\"></a>\n",
    "### <font color='#2874a6'> <b> 3.3. Using Pandas </font> </b>"
   ]
  },
  {
   "cell_type": "code",
   "execution_count": 16,
   "id": "98266ac9",
   "metadata": {},
   "outputs": [],
   "source": [
    "horizon = 1\n",
    "window_size = 3"
   ]
  },
  {
   "cell_type": "code",
   "execution_count": 17,
   "id": "7286e486",
   "metadata": {},
   "outputs": [],
   "source": [
    "# Create function to label windowed data\n",
    "def get_labelled_windows(x, horizon=1):\n",
    "    \"\"\"\n",
    "    Creates labels for windowed dataset.\n",
    "\n",
    "    E.g. if horizon=1 (default)\n",
    "    Input: [1, 2, 3, 4, 5, 6] -> Output: ([1, 2, 3, 4, 5], [6])\n",
    "    \n",
    "    Args:\n",
    "        x (np.ndarray): 2D NumPy array where each row represents a window.\n",
    "        horizon (int): Number of future time steps to predict.\n",
    "\n",
    "    Returns:\n",
    "        tuple: (windows, labels) where windows are the features and labels are the target values.\n",
    "    \"\"\"\n",
    "    return x[:, :-horizon], x[:, -horizon:]"
   ]
  },
  {
   "cell_type": "code",
   "execution_count": 18,
   "id": "941a180f",
   "metadata": {},
   "outputs": [
    {
     "name": "stdout",
     "output_type": "stream",
     "text": [
      "Window: [ 0  1  2  3  4  5  6  7  8  9 10 11 12 13 14 15 16 17 18 19] -> Label: 20\n"
     ]
    }
   ],
   "source": [
    "test_window, test_label = get_labelled_windows(tf.expand_dims(series, axis=0), horizon=horizon)\n",
    "print(f\"Window: {tf.squeeze(test_window).numpy()} -> Label: {tf.squeeze(test_label).numpy()}\")"
   ]
  },
  {
   "cell_type": "code",
   "execution_count": 19,
   "id": "b135f048",
   "metadata": {},
   "outputs": [],
   "source": [
    "# Create function to view NumPy arrays as windows \n",
    "def make_windows(x, window_size=7, horizon=1):\n",
    "    \"\"\"\n",
    "    Turns a 1D array into a 2D array of sequential windows of window_size.\n",
    "\n",
    "    Args:\n",
    "        x (np.ndarray): 1D array of time series data.\n",
    "        window_size (int): Number of time steps to include in each window.\n",
    "        horizon (int): Number of future time steps to predict.\n",
    "\n",
    "    Returns:\n",
    "        tuple: (windows, labels) where windows are the features and labels are the target values.\n",
    "    \"\"\"\n",
    "    # Check input type\n",
    "    if not isinstance(x, np.ndarray):\n",
    "        raise ValueError(\"Input x must be a NumPy array.\")\n",
    "\n",
    "    # Check input length\n",
    "    if len(x) < window_size + horizon:\n",
    "        raise ValueError(\"Input array must be longer than window_size + horizon.\")\n",
    "\n",
    "    # 1. Create a window of specific window_size (add the horizon on the end for later labelling)\n",
    "    window_step = np.expand_dims(np.arange(window_size + horizon), axis=0)\n",
    "\n",
    "    # 2. Create a 2D array of multiple window steps (minus 1 to account for 0 indexing)\n",
    "    window_indexes = window_step + np.expand_dims(np.arange(len(x) - (window_size + horizon - 1)), axis=0).T\n",
    "\n",
    "    # 3. Index on the target array (time series) with 2D array of multiple window steps\n",
    "    windowed_array = x[window_indexes]\n",
    "\n",
    "    # 4. Get the labelled windows\n",
    "    windows, labels = get_labelled_windows(windowed_array, horizon=horizon)\n",
    "\n",
    "    return windows, labels"
   ]
  },
  {
   "cell_type": "code",
   "execution_count": 20,
   "id": "ebb8c96d",
   "metadata": {},
   "outputs": [
    {
     "data": {
      "text/plain": [
       "(18, 18)"
      ]
     },
     "execution_count": 20,
     "metadata": {},
     "output_type": "execute_result"
    }
   ],
   "source": [
    "full_windows, full_labels = make_windows(series, window_size=window_size, horizon=horizon)\n",
    "len(full_windows), len(full_labels)"
   ]
  },
  {
   "cell_type": "code",
   "execution_count": 21,
   "id": "a62cc9de",
   "metadata": {},
   "outputs": [
    {
     "name": "stdout",
     "output_type": "stream",
     "text": [
      "Window: [0 1 2] | Target: [3]\n",
      "Window: [1 2 3] | Target: [4]\n",
      "Window: [2 3 4] | Target: [5]\n",
      "Window: [3 4 5] | Target: [6]\n",
      "Window: [4 5 6] | Target: [7]\n",
      "Window: [5 6 7] | Target: [8]\n",
      "Window: [6 7 8] | Target: [9]\n",
      "Window: [7 8 9] | Target: [10]\n",
      "Window: [ 8  9 10] | Target: [11]\n",
      "Window: [ 9 10 11] | Target: [12]\n",
      "Window: [10 11 12] | Target: [13]\n",
      "Window: [11 12 13] | Target: [14]\n",
      "Window: [12 13 14] | Target: [15]\n",
      "Window: [13 14 15] | Target: [16]\n",
      "Window: [14 15 16] | Target: [17]\n",
      "Window: [15 16 17] | Target: [18]\n",
      "Window: [16 17 18] | Target: [19]\n",
      "Window: [17 18 19] | Target: [20]\n"
     ]
    }
   ],
   "source": [
    "for x, y in zip(full_windows, full_labels):\n",
    "    print(f\"Window: {x} | Target: {y}\")"
   ]
  },
  {
   "cell_type": "markdown",
   "id": "87060aaa",
   "metadata": {},
   "source": [
    "Let's try now with a larger horizon and a different window size:"
   ]
  },
  {
   "cell_type": "code",
   "execution_count": 22,
   "id": "9efa5940",
   "metadata": {},
   "outputs": [],
   "source": [
    "horizon = 3\n",
    "window_size = 2"
   ]
  },
  {
   "cell_type": "code",
   "execution_count": 23,
   "id": "b90be67d",
   "metadata": {},
   "outputs": [
    {
     "data": {
      "text/plain": [
       "(17, 17)"
      ]
     },
     "execution_count": 23,
     "metadata": {},
     "output_type": "execute_result"
    }
   ],
   "source": [
    "full_windows, full_labels = make_windows(series, window_size=window_size, horizon=horizon)\n",
    "len(full_windows), len(full_labels)"
   ]
  },
  {
   "cell_type": "code",
   "execution_count": 24,
   "id": "519636b9",
   "metadata": {},
   "outputs": [
    {
     "name": "stdout",
     "output_type": "stream",
     "text": [
      "Window: [0 1] | Target: [2 3 4]\n",
      "Window: [1 2] | Target: [3 4 5]\n",
      "Window: [2 3] | Target: [4 5 6]\n",
      "Window: [3 4] | Target: [5 6 7]\n",
      "Window: [4 5] | Target: [6 7 8]\n",
      "Window: [5 6] | Target: [7 8 9]\n",
      "Window: [6 7] | Target: [ 8  9 10]\n",
      "Window: [7 8] | Target: [ 9 10 11]\n",
      "Window: [8 9] | Target: [10 11 12]\n",
      "Window: [ 9 10] | Target: [11 12 13]\n",
      "Window: [10 11] | Target: [12 13 14]\n",
      "Window: [11 12] | Target: [13 14 15]\n",
      "Window: [12 13] | Target: [14 15 16]\n",
      "Window: [13 14] | Target: [15 16 17]\n",
      "Window: [14 15] | Target: [16 17 18]\n",
      "Window: [15 16] | Target: [17 18 19]\n",
      "Window: [16 17] | Target: [18 19 20]\n"
     ]
    }
   ],
   "source": [
    "for x, y in zip(full_windows, full_labels):\n",
    "    print(f\"Window: {x} | Target: {y}\")"
   ]
  },
  {
   "cell_type": "markdown",
   "id": "b51595dd",
   "metadata": {},
   "source": [
    "<a name=\"4\"></a>\n",
    "## <font color='#1f618d'> <b> 4. Multivariate Time Series Windowing </font> </b>\n",
    "\n",
    "<a name=\"4.1\"></a>\n",
    "### <font color='#2874a6'> <b> 4.1. Generating data </font> </b>"
   ]
  },
  {
   "cell_type": "code",
   "execution_count": 25,
   "id": "9acb1295",
   "metadata": {},
   "outputs": [
    {
     "data": {
      "text/plain": [
       "array([[ 0, 82, 20],\n",
       "       [ 1, 85, 17],\n",
       "       [ 2, 75, 19],\n",
       "       [ 3, 70, 22],\n",
       "       [ 4, 73, 21],\n",
       "       [ 5, 81, 23],\n",
       "       [ 6, 73, 23],\n",
       "       [ 7, 77, 27],\n",
       "       [ 8, 79, 25],\n",
       "       [ 9, 73, 16]])"
      ]
     },
     "execution_count": 25,
     "metadata": {},
     "output_type": "execute_result"
    }
   ],
   "source": [
    "# Generate a varied multivariate time series dataset\n",
    "def generate_varied_data(num_samples):\n",
    "    # Create time steps\n",
    "    time_steps = np.arange(num_samples)\n",
    "    \n",
    "    # Generate random data for temperature, humidity, and pressure\n",
    "    np.random.seed(0)  # For reproducibility\n",
    "    humidity = np.random.randint(70, 86, size=num_samples)  # Values between 70 and 85\n",
    "    temperature = np.random.randint(15, 31, size=num_samples)  # Values between 15 and 30\n",
    "    \n",
    "    # Stack features together\n",
    "    data = np.column_stack((time_steps, humidity, temperature))\n",
    "    return data\n",
    "\n",
    "# Generate 10 samples of data\n",
    "series_multivariate = generate_varied_data(num_samples=10)\n",
    "\n",
    "series_multivariate"
   ]
  },
  {
   "cell_type": "code",
   "execution_count": 26,
   "id": "076470d4",
   "metadata": {},
   "outputs": [],
   "source": [
    "time_steps = series_multivariate[:, 0]\n",
    "series = series_multivariate[:, 1:] # all execept the first (tempearture and humidity)"
   ]
  },
  {
   "cell_type": "markdown",
   "id": "953e9c70",
   "metadata": {},
   "source": [
    "We will try to forecast \"temperature\".\n",
    "\n",
    "First, let's create some plots to visualize the data.\n"
   ]
  },
  {
   "cell_type": "code",
   "execution_count": 33,
   "id": "3ab1fbd8",
   "metadata": {},
   "outputs": [
    {
     "data": {
      "image/png": "[encoded data removed]",
      "text/plain": [
       "<Figure size 1200x600 with 2 Axes>"
      ]
     },
     "metadata": {},
     "output_type": "display_data"
    }
   ],
   "source": [
    "# Extracting time steps, temperature, humidity\n",
    "humidity = series[:, 0]\n",
    "temperature = series[:, 1]\n",
    "\n",
    "# Creating the plots\n",
    "plt.figure(figsize=(12, 6))\n",
    "\n",
    "# Plot temperature\n",
    "plt.subplot(3, 1, 2)\n",
    "plt.plot(time_steps, temperature, marker='o', color='orange', label='Temperature (°C)')\n",
    "plt.title('Temperature over Time')\n",
    "plt.xlabel('Time Step')\n",
    "plt.ylabel('Temperature (°C)')\n",
    "plt.grid()\n",
    "plt.legend()\n",
    "\n",
    "# Plot humidity\n",
    "plt.subplot(3, 1, 1)\n",
    "plt.plot(time_steps, humidity, marker='o', color='blue', label='Humidity')\n",
    "plt.title('Humidity over Time')\n",
    "plt.xlabel('Time Step')\n",
    "plt.ylabel('Humidity')\n",
    "plt.grid()\n",
    "plt.legend()\n",
    "\n",
    "\n",
    "# Adjust layout\n",
    "plt.tight_layout()\n",
    "plt.show()\n"
   ]
  },
  {
   "cell_type": "markdown",
   "id": "c08bb948",
   "metadata": {},
   "source": [
    "Let's plot the data in only one plot."
   ]
  },
  {
   "cell_type": "code",
   "execution_count": 34,
   "id": "f1c072ac",
   "metadata": {},
   "outputs": [
    {
     "data": {
      "image/png": "[encoded data removed]",
      "text/plain": [
       "<Figure size 1000x500 with 1 Axes>"
      ]
     },
     "metadata": {},
     "output_type": "display_data"
    }
   ],
   "source": [
    "# Creating the plot\n",
    "plt.figure(figsize=(10, 5))\n",
    "\n",
    "# Plot temperature\n",
    "plt.plot(time_steps, temperature, marker='o', color='orange', label='Temperature (°C)')\n",
    "\n",
    "# Plot humidity (scaled)\n",
    "plt.plot(time_steps, humidity, marker='o', color='blue', label='Humidity (%)')\n",
    "\n",
    "# Add title and labels\n",
    "plt.title('Temperature and Humidity over Time')\n",
    "plt.xlabel('Time Step')\n",
    "plt.ylabel('Value')\n",
    "plt.grid()\n",
    "\n",
    "# Add legend\n",
    "plt.legend()\n",
    "\n",
    "# Show the plot\n",
    "plt.tight_layout()\n",
    "plt.show()\n"
   ]
  },
  {
   "cell_type": "markdown",
   "id": "012e0d1f",
   "metadata": {},
   "source": [
    "<a name=\"4.2\"></a>\n",
    "### <font color='#2874a6'> <b> 4.2. Using TensorFlow </font> </b>"
   ]
  },
  {
   "cell_type": "code",
   "execution_count": 35,
   "id": "112d1a06",
   "metadata": {},
   "outputs": [],
   "source": [
    "horizon = 1\n",
    "window_size = 2"
   ]
  },
  {
   "cell_type": "code",
   "execution_count": 36,
   "id": "56eb310d",
   "metadata": {},
   "outputs": [
    {
     "data": {
      "text/plain": [
       "tensorflow.python.data.ops.from_tensor_slices_op._TensorSliceDataset"
      ]
     },
     "execution_count": 36,
     "metadata": {},
     "output_type": "execute_result"
    }
   ],
   "source": [
    "# Convert the NumPy array to a TensorFlow Dataset\n",
    "ds = tf.data.Dataset.from_tensor_slices(series)\n",
    "type(ds)"
   ]
  },
  {
   "cell_type": "code",
   "execution_count": 37,
   "id": "9e7389e5",
   "metadata": {},
   "outputs": [
    {
     "name": "stdout",
     "output_type": "stream",
     "text": [
      "[82 20] [85 17] [75 19] \n",
      "[85 17] [75 19] [70 22] \n",
      "[75 19] [70 22] [73 21] \n",
      "[70 22] [73 21] [81 23] \n",
      "[73 21] [81 23] [73 23] \n",
      "[81 23] [73 23] [77 27] \n",
      "[73 23] [77 27] [79 25] \n",
      "[77 27] [79 25] [73 16] \n"
     ]
    },
    {
     "name": "stderr",
     "output_type": "stream",
     "text": [
      "2025-06-27 15:54:06.024086: W tensorflow/core/framework/dataset.cc:959] Input of Window will not be optimized because the dataset does not implement the AsGraphDefInternal() method needed to apply optimizations.\n"
     ]
    }
   ],
   "source": [
    "# Create windows of size (window_size + horizon)\n",
    "ds = ds.window(window_size + 1, shift=1, drop_remainder=True)\n",
    "\n",
    "for window_dataset in ds:\n",
    "    for val in window_dataset:\n",
    "        print(val.numpy(), end=\" \")\n",
    "    print()"
   ]
  },
  {
   "cell_type": "code",
   "execution_count": 38,
   "id": "259bb29e",
   "metadata": {},
   "outputs": [
    {
     "name": "stdout",
     "output_type": "stream",
     "text": [
      "[[82 20]\n",
      " [85 17]\n",
      " [75 19]]\n",
      "[[85 17]\n",
      " [75 19]\n",
      " [70 22]]\n",
      "[[75 19]\n",
      " [70 22]\n",
      " [73 21]]\n",
      "[[70 22]\n",
      " [73 21]\n",
      " [81 23]]\n",
      "[[73 21]\n",
      " [81 23]\n",
      " [73 23]]\n",
      "[[81 23]\n",
      " [73 23]\n",
      " [77 27]]\n",
      "[[73 23]\n",
      " [77 27]\n",
      " [79 25]]\n",
      "[[77 27]\n",
      " [79 25]\n",
      " [73 16]]\n"
     ]
    }
   ],
   "source": [
    "# Convert the windows to batches of size window_size + horizon\n",
    "ds = ds.flat_map(lambda w: w.batch(window_size + horizon))\n",
    "\n",
    "for window in ds:\n",
    "    print(window.numpy())"
   ]
  },
  {
   "cell_type": "code",
   "execution_count": 39,
   "id": "beed41d1",
   "metadata": {},
   "outputs": [
    {
     "name": "stdout",
     "output_type": "stream",
     "text": [
      "[[82 20]\n",
      " [85 17]] [19]\n",
      "[[85 17]\n",
      " [75 19]] [22]\n",
      "[[75 19]\n",
      " [70 22]] [21]\n",
      "[[70 22]\n",
      " [73 21]] [23]\n",
      "[[73 21]\n",
      " [81 23]] [23]\n",
      "[[81 23]\n",
      " [73 23]] [27]\n",
      "[[73 23]\n",
      " [77 27]] [25]\n",
      "[[77 27]\n",
      " [79 25]] [16]\n"
     ]
    }
   ],
   "source": [
    "#ds = ds.map(lambda w: (w[:-horizon, horizon:], w[-horizon, 1])) # our target is temperature (first column)\n",
    "ds = ds.map(lambda w: (w[:-horizon, :], w[-horizon:, -1])) \n",
    "\n",
    "for x, y in ds:\n",
    "    print(x.numpy(), y.numpy())"
   ]
  },
  {
   "cell_type": "code",
   "execution_count": 40,
   "id": "9f3c8602",
   "metadata": {},
   "outputs": [
    {
     "name": "stdout",
     "output_type": "stream",
     "text": [
      "Input (features):\n",
      "[[82 20]\n",
      " [85 17]]\n",
      "Target (temperature):\n",
      "[19]\n",
      "\n",
      "\n",
      "Input (features):\n",
      "[[85 17]\n",
      " [75 19]]\n",
      "Target (temperature):\n",
      "[22]\n",
      "\n",
      "\n",
      "Input (features):\n",
      "[[75 19]\n",
      " [70 22]]\n",
      "Target (temperature):\n",
      "[21]\n",
      "\n",
      "\n",
      "Input (features):\n",
      "[[70 22]\n",
      " [73 21]]\n",
      "Target (temperature):\n",
      "[23]\n",
      "\n",
      "\n",
      "Input (features):\n",
      "[[73 21]\n",
      " [81 23]]\n",
      "Target (temperature):\n",
      "[23]\n",
      "\n",
      "\n",
      "Input (features):\n",
      "[[81 23]\n",
      " [73 23]]\n",
      "Target (temperature):\n",
      "[27]\n",
      "\n",
      "\n",
      "Input (features):\n",
      "[[73 23]\n",
      " [77 27]]\n",
      "Target (temperature):\n",
      "[25]\n",
      "\n",
      "\n",
      "Input (features):\n",
      "[[77 27]\n",
      " [79 25]]\n",
      "Target (temperature):\n",
      "[16]\n",
      "\n",
      "\n"
     ]
    }
   ],
   "source": [
    "# A better print\n",
    "for x, y in ds:\n",
    "    print(\"Input (features):\")\n",
    "    print(x.numpy())\n",
    "    print(\"Target (temperature):\")\n",
    "    print(y.numpy())\n",
    "    print(\"\\n\")"
   ]
  },
  {
   "cell_type": "markdown",
   "id": "0cb2d143",
   "metadata": {},
   "source": [
    "I use the past data points [82, 20] and [85, 17] (representing humidity and temperature at two previous time steps) to predict the temperature value of 19 at the next time step."
   ]
  },
  {
   "cell_type": "markdown",
   "id": "607618cd",
   "metadata": {},
   "source": [
    "We can include everything in one function. Additionally, we will add optional shuffling and batching."
   ]
  },
  {
   "cell_type": "code",
   "execution_count": 41,
   "id": "b83308b8",
   "metadata": {},
   "outputs": [],
   "source": [
    "def windowed_multivariate_dataset(series, window_size, horizon=1, batch_size=2, shuffle_buffer=200, shuffle=True):\n",
    "    \"\"\"\n",
    "    Creates a windowed dataset for multivariate time series forecasting.\n",
    "    \n",
    "    Parameters:\n",
    "    - series (np.array): Multivariate time series data (with multiple features).\n",
    "    - window_size (int): Number of time steps in each window.\n",
    "    - horizon (int): Number of steps ahead to predict.\n",
    "    - batch_size (int): Batch size for training.\n",
    "    - shuffle_buffer (int): Buffer size for shuffling the dataset.\n",
    "    - shuffle (bool): Whether to shuffle the dataset or not.\n",
    "    \n",
    "    Returns:\n",
    "    - tf.data.Dataset: A TensorFlow dataset with input-output pairs for training.\n",
    "    \"\"\"\n",
    "    # Convert the NumPy array to a TensorFlow Dataset\n",
    "    ds = tf.data.Dataset.from_tensor_slices(series)\n",
    "    \n",
    "    # Create a sliding window with window_size + horizon elements (extra steps for forecasting)\n",
    "    ds = ds.window(window_size + horizon, shift=1, drop_remainder=True)\n",
    "    \n",
    "    # Convert the windows to batches of size window_size + horizon\n",
    "    ds = ds.flat_map(lambda w: w.batch(window_size + horizon))\n",
    "    \n",
    "    # Optionally shuffle the dataset\n",
    "    if shuffle:\n",
    "        ds = ds.shuffle(shuffle_buffer)\n",
    "    \n",
    "    # Separate the input features and the target variable (assumed as the last time step)\n",
    "    ds = ds.map(lambda w: (w[:-horizon, :], w[-horizon:, -1]))  \n",
    "                # w[:-horizon, :] -> all but the last horizon time steps as input\n",
    "                # w[-horizon:, -1] -> the last time step's feature as the target (e.g. last column)\n",
    "            \n",
    "            \n",
    "    \"\"\"\n",
    "    # Separate the input features and the target variable\n",
    "    def split_window(window):\n",
    "        inputs = window[:-horizon, :]\n",
    "        targets = window[-horizon:, target_index]\n",
    "        return inputs, targets\n",
    "\n",
    "    ds = ds.map(split_window)\n",
    "    \"\"\"\n",
    "            \n",
    "            \n",
    "    \n",
    "    # Batch the dataset and prefetch to improve performance\n",
    "    ds = ds.batch(batch_size).prefetch(1)\n",
    "    \n",
    "    return ds\n"
   ]
  },
  {
   "cell_type": "code",
   "execution_count": 42,
   "id": "c573fd68",
   "metadata": {},
   "outputs": [
    {
     "data": {
      "text/plain": [
       "array([[82, 20],\n",
       "       [85, 17],\n",
       "       [75, 19],\n",
       "       [70, 22],\n",
       "       [73, 21],\n",
       "       [81, 23],\n",
       "       [73, 23],\n",
       "       [77, 27],\n",
       "       [79, 25],\n",
       "       [73, 16]])"
      ]
     },
     "execution_count": 42,
     "metadata": {},
     "output_type": "execute_result"
    }
   ],
   "source": [
    "series"
   ]
  },
  {
   "cell_type": "code",
   "execution_count": 43,
   "id": "dad3bb86",
   "metadata": {},
   "outputs": [
    {
     "name": "stdout",
     "output_type": "stream",
     "text": [
      "Input (features):\n",
      "[[[82 20]\n",
      "  [85 17]]]\n",
      "Target (temperature):\n",
      "[[19]]\n",
      "\n",
      "\n",
      "Input (features):\n",
      "[[[73 23]\n",
      "  [77 27]]]\n",
      "Target (temperature):\n",
      "[[25]]\n",
      "\n",
      "\n",
      "Input (features):\n",
      "[[[75 19]\n",
      "  [70 22]]]\n",
      "Target (temperature):\n",
      "[[21]]\n",
      "\n",
      "\n",
      "Input (features):\n",
      "[[[77 27]\n",
      "  [79 25]]]\n",
      "Target (temperature):\n",
      "[[16]]\n",
      "\n",
      "\n",
      "Input (features):\n",
      "[[[73 21]\n",
      "  [81 23]]]\n",
      "Target (temperature):\n",
      "[[23]]\n",
      "\n",
      "\n",
      "Input (features):\n",
      "[[[85 17]\n",
      "  [75 19]]]\n",
      "Target (temperature):\n",
      "[[22]]\n",
      "\n",
      "\n",
      "Input (features):\n",
      "[[[81 23]\n",
      "  [73 23]]]\n",
      "Target (temperature):\n",
      "[[27]]\n",
      "\n",
      "\n",
      "Input (features):\n",
      "[[[70 22]\n",
      "  [73 21]]]\n",
      "Target (temperature):\n",
      "[[23]]\n",
      "\n",
      "\n"
     ]
    }
   ],
   "source": [
    "ds1 = windowed_multivariate_dataset(series, 2, 1, 1) # batch size of 1 for better visibility\n",
    "\n",
    "for x, y in ds1:\n",
    "    print(\"Input (features):\")\n",
    "    print(x.numpy())\n",
    "    print(\"Target (temperature):\")\n",
    "    print(y.numpy())\n",
    "    print(\"\\n\")"
   ]
  },
  {
   "cell_type": "code",
   "execution_count": 44,
   "id": "acdb7059",
   "metadata": {},
   "outputs": [
    {
     "data": {
      "text/plain": [
       "array([[82, 20],\n",
       "       [85, 17],\n",
       "       [75, 19],\n",
       "       [70, 22],\n",
       "       [73, 21],\n",
       "       [81, 23],\n",
       "       [73, 23],\n",
       "       [77, 27],\n",
       "       [79, 25],\n",
       "       [73, 16]])"
      ]
     },
     "execution_count": 44,
     "metadata": {},
     "output_type": "execute_result"
    }
   ],
   "source": [
    "# now we will test with a larger horizon\n",
    "series"
   ]
  },
  {
   "cell_type": "code",
   "execution_count": 45,
   "id": "83f60563",
   "metadata": {},
   "outputs": [
    {
     "name": "stdout",
     "output_type": "stream",
     "text": [
      "Input (features):\n",
      "[[[70 22]\n",
      "  [73 21]]]\n",
      "Target (temperature):\n",
      "[[23 23]]\n",
      "\n",
      "\n",
      "Input (features):\n",
      "[[[73 21]\n",
      "  [81 23]]]\n",
      "Target (temperature):\n",
      "[[23 27]]\n",
      "\n",
      "\n",
      "Input (features):\n",
      "[[[81 23]\n",
      "  [73 23]]]\n",
      "Target (temperature):\n",
      "[[27 25]]\n",
      "\n",
      "\n",
      "Input (features):\n",
      "[[[85 17]\n",
      "  [75 19]]]\n",
      "Target (temperature):\n",
      "[[22 21]]\n",
      "\n",
      "\n",
      "Input (features):\n",
      "[[[75 19]\n",
      "  [70 22]]]\n",
      "Target (temperature):\n",
      "[[21 23]]\n",
      "\n",
      "\n",
      "Input (features):\n",
      "[[[82 20]\n",
      "  [85 17]]]\n",
      "Target (temperature):\n",
      "[[19 22]]\n",
      "\n",
      "\n",
      "Input (features):\n",
      "[[[73 23]\n",
      "  [77 27]]]\n",
      "Target (temperature):\n",
      "[[25 16]]\n",
      "\n",
      "\n"
     ]
    }
   ],
   "source": [
    "# horizon=2\n",
    "ds2 = windowed_multivariate_dataset(series, 2, 2, 1) # batch size of 1 for better visibility\n",
    "\n",
    "for x, y in ds2:\n",
    "    print(\"Input (features):\")\n",
    "    print(x.numpy())\n",
    "    print(\"Target (temperature):\")\n",
    "    print(y.numpy())\n",
    "    print(\"\\n\")"
   ]
  },
  {
   "cell_type": "markdown",
   "id": "38f5822b",
   "metadata": {},
   "source": [
    "<a name=\"4.3\"></a>\n",
    "### <font color='#2874a6'> <b> 4.3. Using Pandas </font> </b>"
   ]
  },
  {
   "cell_type": "code",
   "execution_count": 46,
   "id": "0d443f85",
   "metadata": {},
   "outputs": [],
   "source": [
    "window_size = 2\n",
    "horizon = 2"
   ]
  },
  {
   "cell_type": "code",
   "execution_count": 47,
   "id": "b5c80760",
   "metadata": {},
   "outputs": [],
   "source": [
    "def windowed_multivariate_dataset_pandas(series, window_size, horizon=1, batch_size=2, shuffle=True):\n",
    "    \"\"\"\n",
    "    Creates a windowed dataset for multivariate time series forecasting using Pandas.\n",
    "\n",
    "    Parameters:\n",
    "    - series (pd.DataFrame or pd.Series): Multivariate time series data with multiple features.\n",
    "    - window_size (int): Number of time steps in each window.\n",
    "    - horizon (int): Number of steps ahead to predict.\n",
    "    - batch_size (int): Batch size for training (affects the structure of the returned dataset).\n",
    "    - shuffle (bool): Whether to shuffle the dataset or not.\n",
    "    \n",
    "    Returns:\n",
    "    - list: A list of tuples where each tuple is (input_window, target_window).\n",
    "    \"\"\"\n",
    "    data = []\n",
    "    for i in range(len(series) - window_size - horizon + 1):\n",
    "        # Create input window and target window based on window_size and horizon\n",
    "        input_window = series.iloc[i: i + window_size].values\n",
    "        target_window = series.iloc[i + window_size: i + window_size + horizon].values[:, -1]  # Use last column as target\n",
    "        \n",
    "        data.append((input_window, target_window))\n",
    "    \n",
    "    # Shuffle data if needed\n",
    "    if shuffle:\n",
    "        np.random.shuffle(data)\n",
    "    \n",
    "    # Group into batches\n",
    "    batches = [data[i: i + batch_size] for i in range(0, len(data), batch_size)]\n",
    "    \n",
    "    return batches\n"
   ]
  },
  {
   "cell_type": "code",
   "execution_count": 48,
   "id": "945afcc2",
   "metadata": {},
   "outputs": [
    {
     "data": {
      "text/plain": [
       "array([[82, 20],\n",
       "       [85, 17],\n",
       "       [75, 19],\n",
       "       [70, 22],\n",
       "       [73, 21],\n",
       "       [81, 23],\n",
       "       [73, 23],\n",
       "       [77, 27],\n",
       "       [79, 25],\n",
       "       [73, 16]])"
      ]
     },
     "execution_count": 48,
     "metadata": {},
     "output_type": "execute_result"
    }
   ],
   "source": [
    "series"
   ]
  },
  {
   "cell_type": "code",
   "execution_count": 49,
   "id": "f92964c6",
   "metadata": {},
   "outputs": [
    {
     "data": {
      "text/plain": [
       "[[(array([[82, 20],\n",
       "          [85, 17]]),\n",
       "   array([19, 22])),\n",
       "  (array([[85, 17],\n",
       "          [75, 19]]),\n",
       "   array([22, 21]))],\n",
       " [(array([[75, 19],\n",
       "          [70, 22]]),\n",
       "   array([21, 23])),\n",
       "  (array([[70, 22],\n",
       "          [73, 21]]),\n",
       "   array([23, 23]))],\n",
       " [(array([[73, 21],\n",
       "          [81, 23]]),\n",
       "   array([23, 27])),\n",
       "  (array([[81, 23],\n",
       "          [73, 23]]),\n",
       "   array([27, 25]))],\n",
       " [(array([[73, 23],\n",
       "          [77, 27]]),\n",
       "   array([25, 16]))]]"
      ]
     },
     "execution_count": 49,
     "metadata": {},
     "output_type": "execute_result"
    }
   ],
   "source": [
    "windowed_multivariate_dataset_pandas(pd.DataFrame(series), window_size, horizon, 2, False)"
   ]
  },
  {
   "cell_type": "markdown",
   "id": "cfed7f5b",
   "metadata": {},
   "source": [
    "<a name=\"4\"></a>\n",
    "## <font color='#1f618d'> <b> 5. Summary</font> </b>\n",
    "\n",
    "We can use the following functions to \"windowed\" a dataset:\n"
   ]
  },
  {
   "cell_type": "code",
   "execution_count": 50,
   "id": "a026527a",
   "metadata": {},
   "outputs": [],
   "source": [
    "# TF\n",
    "def windowed_multivariate_dataset(series, window_size, horizon=1, batch_size=2, shuffle_buffer=200, shuffle=True):\n",
    "    \"\"\"\n",
    "    Creates a windowed dataset for multivariate time series forecasting.\n",
    "    \n",
    "    Parameters:\n",
    "    - series (np.array): Multivariate time series data (with multiple features).\n",
    "    - window_size (int): Number of time steps in each window.\n",
    "    - horizon (int): Number of steps ahead to predict.\n",
    "    - batch_size (int): Batch size for training.\n",
    "    - shuffle_buffer (int): Buffer size for shuffling the dataset.\n",
    "    - shuffle (bool): Whether to shuffle the dataset or not.\n",
    "    \n",
    "    Returns:\n",
    "    - tf.data.Dataset: A TensorFlow dataset with input-output pairs for training.\n",
    "    \"\"\"\n",
    "    # Convert the NumPy array to a TensorFlow Dataset\n",
    "    ds = tf.data.Dataset.from_tensor_slices(series)\n",
    "    \n",
    "    # Create a sliding window with window_size + horizon elements (extra steps for forecasting)\n",
    "    ds = ds.window(window_size + horizon, shift=1, drop_remainder=True)\n",
    "    \n",
    "    # Convert the windows to batches of size window_size + horizon\n",
    "    ds = ds.flat_map(lambda w: w.batch(window_size + horizon))\n",
    "    \n",
    "    # Optionally shuffle the dataset\n",
    "    if shuffle:\n",
    "        ds = ds.shuffle(shuffle_buffer)\n",
    "    \n",
    "    # Separate the input features and the target variable (assumed as the last time step)\n",
    "    ds = ds.map(lambda w: (w[:-horizon, :], w[-horizon:, -1]))  \n",
    "                # w[:-horizon, :] -> all but the last horizon time steps as input\n",
    "                # w[-horizon:, -1] -> the last time step's feature as the target (e.g. last column)\n",
    "\n",
    "    # to generalize (to a target given by amy index): to select a specific feature (e.g., column target_idx), make target_idx a parameter\n",
    "    # ds = ds.map(lambda w: (w[:-horizon, :], w[-horizon:, target_col]))\n",
    "            \n",
    "    # Batch the dataset and prefetch to improve performance\n",
    "    ds = ds.batch(batch_size).prefetch(1)\n",
    "    \n",
    "    return ds\n"
   ]
  },
  {
   "cell_type": "code",
   "execution_count": 51,
   "id": "c9107be3",
   "metadata": {},
   "outputs": [],
   "source": [
    "# Pandas\n",
    "def windowed_multivariate_dataset_pandas(series, window_size, horizon=1, batch_size=2, shuffle=True):\n",
    "    \"\"\"\n",
    "    Creates a windowed dataset for multivariate time series forecasting using Pandas.\n",
    "\n",
    "    Parameters:\n",
    "    - series (pd.DataFrame or pd.Series): Multivariate time series data with multiple features.\n",
    "    - window_size (int): Number of time steps in each window.\n",
    "    - horizon (int): Number of steps ahead to predict.\n",
    "    - batch_size (int): Batch size for training (affects the structure of the returned dataset).\n",
    "    - shuffle (bool): Whether to shuffle the dataset or not.\n",
    "    \n",
    "    Returns:\n",
    "    - list: A list of tuples where each tuple is (input_window, target_window).\n",
    "    \"\"\"\n",
    "    data = []\n",
    "    for i in range(len(series) - window_size - horizon + 1):\n",
    "        # Create input window and target window based on window_size and horizon\n",
    "        input_window = series.iloc[i: i + window_size].values\n",
    "        target_window = series.iloc[i + window_size: i + window_size + horizon].values[:, -1]  # Use last column as target\n",
    "        \n",
    "        data.append((input_window, target_window))\n",
    "    \n",
    "    # Shuffle data if needed\n",
    "    if shuffle:\n",
    "        np.random.shuffle(data)\n",
    "    \n",
    "    # Group into batches\n",
    "    batches = [data[i: i + batch_size] for i in range(0, len(data), batch_size)]\n",
    "    \n",
    "    return batches"
   ]
  },
  {
   "cell_type": "markdown",
   "id": "1447fc87",
   "metadata": {},
   "source": [
    "<a name=\"References\"></a>\n",
    "## <font color='#1a5276'> <b> 6. References </font> </b>\n",
    "\n",
    "[DeepLearning.AI TensorFlow Developer Professional Certificate](https://www.coursera.org/learn/tensorflow-sequences-time-series-and-prediction?specialization=tensorflow-in-practice)\n",
    "\n",
    "[TensorFlow for Deep Learning Bootcamp](https://www.udemy.com/course/tensorflow-developer-certificate-machine-learning-zero-to-mastery/?couponCode=MTST7102224B2)"
   ]
  }
 ],
 "metadata": {
  "kernelspec": {
   "display_name": "Python 3 (ipykernel)",
   "language": "python",
   "name": "python3"
  },
  "language_info": {
   "codemirror_mode": {
    "name": "ipython",
    "version": 3
   },
   "file_extension": ".py",
   "mimetype": "text/x-python",
   "name": "python",
   "nbconvert_exporter": "python",
   "pygments_lexer": "ipython3",
   "version": "3.10.12"
  }
 },
 "nbformat": 4,
 "nbformat_minor": 5
}
